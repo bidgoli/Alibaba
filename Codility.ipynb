{
 "cells": [
  {
   "cell_type": "markdown",
   "metadata": {},
   "source": [
    "# Codility\n",
    "\n",
    "\n",
    "\n",
    "**Here is 3 questions which was a part of Codility assessment. I just have access to the first question description**\n",
    "\n",
    "\n",
    "\n",
    "\n",
    "Write a function:\n",
    "\n",
    "def solution(A)\n",
    "\n",
    "that, given an array A of N integers, returns the smallest positive integer (greater than 0) that does not occur in A.\n",
    "\n",
    "For example, given A = [1, 3, 6, 4, 1, 2], the function should return 5.\n",
    "\n",
    "Given A = [1, 2, 3], the function should return 4.\n",
    "\n",
    "Given A = [−1, −3], the function should return 1.\n",
    "\n",
    "Write an efficient algorithm for the following assumptions:\n",
    "\n",
    "N is an integer within the range [1..100,000];\n",
    "each element of array A is an integer within the range [−1,000,000..1,000,000]."
   ]
  },
  {
   "cell_type": "code",
   "execution_count": 1,
   "metadata": {},
   "outputs": [],
   "source": [
    "def solution(A):\n",
    "    A.sort()\n",
    "    S=[]\n",
    "    for a in A:\n",
    "        if a>0:\n",
    "            S.append(a)\n",
    "    if len(S)==0:\n",
    "        return 1\n",
    "    S=list(set(S))\n",
    "    #print(S)\n",
    "    for i,s in enumerate(S):\n",
    "        if s>1+i:\n",
    "            return i+1\n",
    "    return S[-1]+1"
   ]
  },
  {
   "cell_type": "code",
   "execution_count": 2,
   "metadata": {},
   "outputs": [
    {
     "data": {
      "text/plain": [
       "5"
      ]
     },
     "execution_count": 2,
     "metadata": {},
     "output_type": "execute_result"
    }
   ],
   "source": [
    "solution ([1, 3, 6, 4, 1, 2])"
   ]
  },
  {
   "cell_type": "markdown",
   "metadata": {},
   "source": [
    "But apparently the code has some flaws cause I scored 80%\n",
    "\n",
    "Due to two unknown mistakes\n",
    "\n",
    "extreme_min_max_value\n",
    "minimal and maximal values✘WRONG ANSWER\n",
    "got 1 expected 6\n",
    "\n",
    "large_3\n",
    "chaotic + many -1, 1, 2, 3 (with minus)✘WRONG ANSWER\n",
    "got 1 expected 10000\n",
    "\n",
    "--------------------------------"
   ]
  },
  {
   "cell_type": "markdown",
   "metadata": {},
   "source": [
    "Question 2\n",
    "\n",
    "Write a program that spit out the length (num of words) of longest sentence in a passage. Delimiters are '.','!','?'"
   ]
  },
  {
   "cell_type": "code",
   "execution_count": 3,
   "metadata": {},
   "outputs": [],
   "source": [
    "def solution(S):\n",
    "    S=S.replace('!','.')\n",
    "    S=S.replace('?','.')\n",
    "    SL=S.split('.')\n",
    "    mx=0\n",
    "    for s in SL:\n",
    "        WL=s.split()\n",
    "        if mx<len(WL):\n",
    "            mx=len(WL)\n",
    "    return mx"
   ]
  },
  {
   "cell_type": "code",
   "execution_count": 4,
   "metadata": {},
   "outputs": [
    {
     "data": {
      "text/plain": [
       "4"
      ]
     },
     "execution_count": 4,
     "metadata": {},
     "output_type": "execute_result"
    }
   ],
   "source": [
    "solution('All that matters! No I\\'m not t... What?')"
   ]
  },
  {
   "cell_type": "markdown",
   "metadata": {},
   "source": [
    "-------------------------------------\n",
    "There are a list of trees in a row each of which has some apples on it. The values are given by a list called A. \n",
    "\n",
    "Alice and bob try to pick two disjoin segment of trees that maximize the number of trees.\n",
    "\n",
    "Write a program to do this, and spit out -1 if it is not possible."
   ]
  },
  {
   "cell_type": "code",
   "execution_count": 5,
   "metadata": {},
   "outputs": [],
   "source": [
    "def solution(A, K,L):\n",
    "    # write your code in Python 3.6\n",
    "    first=[]\n",
    "    Tot=0\n",
    "    for i in range(len(A)-K-L+1):\n",
    "        second=[]\n",
    "        first.append(sum(A[i:i+K]))\n",
    "        for j in range(len(A)-i-K-L+1):\n",
    "            second.append(sum(A[i+K+j:j+i+K+L]))\n",
    "        print(first,second)\n",
    "        Tot=max(Tot,(max(first)+max(second)))\n",
    "        print(Tot,'\\n _______________ \\n')\n",
    "    if Tot>0:\n",
    "        return Tot\n",
    "    return -1"
   ]
  },
  {
   "cell_type": "code",
   "execution_count": 6,
   "metadata": {},
   "outputs": [
    {
     "name": "stdout",
     "output_type": "stream",
     "text": [
      "[11] [9, 5, 9, 11]\n",
      "22 \n",
      " _______________ \n",
      "\n",
      "[11, 11] [5, 9, 11]\n",
      "22 \n",
      " _______________ \n",
      "\n",
      "[11, 11, 13] [9, 11]\n",
      "24 \n",
      " _______________ \n",
      "\n",
      "[11, 11, 13, 11] [11]\n",
      "24 \n",
      " _______________ \n",
      "\n"
     ]
    },
    {
     "data": {
      "text/plain": [
       "24"
      ]
     },
     "execution_count": 6,
     "metadata": {},
     "output_type": "execute_result"
    }
   ],
   "source": [
    "solution([6,1,4,6,3,2,7,4],3,2)"
   ]
  },
  {
   "cell_type": "code",
   "execution_count": 7,
   "metadata": {},
   "outputs": [
    {
     "data": {
      "text/plain": [
       "-1"
      ]
     },
     "execution_count": 7,
     "metadata": {},
     "output_type": "execute_result"
    }
   ],
   "source": [
    "solution([10, 19, 15], 2, 2)"
   ]
  },
  {
   "cell_type": "markdown",
   "metadata": {},
   "source": [
    "**Remark:** There was also a SQL test and some theoretical questions concerning these concepts:\n",
    "\n",
    "LogLoss, AIC, Cook Distance, Lift Curve, Matthews correlation coefficient, Lasso regression coefficient "
   ]
  }
 ],
 "metadata": {
  "kernelspec": {
   "display_name": "Python 3",
   "language": "python",
   "name": "python3"
  },
  "language_info": {
   "codemirror_mode": {
    "name": "ipython",
    "version": 3
   },
   "file_extension": ".py",
   "mimetype": "text/x-python",
   "name": "python",
   "nbconvert_exporter": "python",
   "pygments_lexer": "ipython3",
   "version": "3.7.3"
  }
 },
 "nbformat": 4,
 "nbformat_minor": 2
}
